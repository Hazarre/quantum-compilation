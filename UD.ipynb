{
 "cells": [
  {
   "attachments": {},
   "cell_type": "markdown",
   "metadata": {},
   "source": [
    "### Universal Decomposition (Partial)\n",
    "This file completes the decomposition of a general unitary matrix into two-level unitary matrices. \n",
    "\n",
    "The full Universal Decomposition requires another fixed routine to decompose two-level unitary matrices into CNOT and single-qubit gates. Since this procedure is not so interesting and takes only $O(1)$ time, we leave it our for simplicity. "
   ]
  },
  {
   "cell_type": "code",
   "execution_count": 1,
   "metadata": {},
   "outputs": [],
   "source": [
    "import numpy as np\n",
    "\n",
    "def reduce(a, b): \n",
    "    '''\n",
    "    Reduce elements (i, i+1) by U\n",
    "    '''\n",
    "    if b == 0:\n",
    "        return np.identity(2, dtype=complex)\n",
    "    if a == 0: \n",
    "        return np.array([[0,1], [1,0]],  dtype=complex)\n",
    "    t = np.arctan2(np.abs(b), np.abs(a)) # theta\n",
    "    l = -np.angle(a)          # lambda\n",
    "    m = np.pi + np.angle(b)   # mu  \n",
    "    U = np.array( [[ np.cos(t)*np.exp(l*1j), np.sin(t)*np.exp(m*1j)],\n",
    "                   [-np.sin(t)*np.exp(-m*1j), np.cos(t)*np.exp(-l*1j)]])\n",
    "    return U \n",
    "\n",
    "def gray_code(n):\n",
    "    return [i^i//2 for i in range(2**n)]\n",
    "\n",
    "def two_level_decompose(A):\n",
    "    '''\n",
    "    Decomposes A into a list of 2-level matrices such that the product \n",
    "    of the list will be A. \n",
    "    '''\n",
    "    assert A.shape[0] == A.shape[1]\n",
    "    d = A.shape[0]\n",
    "    decomp = []\n",
    "    for s in range(d-2):\n",
    "        for i in range(d,s+1,-1):\n",
    "            b = A[s][i-1]\n",
    "            a = A[s][i-2]\n",
    "            I = np.identity(d, dtype=np.cdouble)\n",
    "            U = reduce(a, b)\n",
    "            for j in range(2):\n",
    "                for k in range(2): \n",
    "                    I[i-2+j][i-2+k] = U[j][k]    \n",
    "            decomp.append(I.conj().T)\n",
    "            A = A @ I\n",
    "    decomp.append(A)\n",
    "    return decomp\n",
    "\n",
    "def two_level_decompose_gray(A): \n",
    "    '''\n",
    "    Decomposes A into a sequence of 2-level matrices such that acts on\n",
    "    basis states that diff. in only one bit.\n",
    "    '''\n",
    "    assert A.shape[0] == A.shape[1]\n",
    "    d = A.shape[0]\n",
    "    P = np.zeros((d, d))\n",
    "    gcode = gray_code(int(np.log2(d)))\n",
    "    \n",
    "    for i in range(d): \n",
    "        for j in range(d): \n",
    "            if gcode[j] == i:\n",
    "                P[i][j] = 1\n",
    "    D = two_level_decompose(P @ A @ P.T)\n",
    "    for i in range(len(D)):\n",
    "        D[i] = P.T @ D[i] @ P\n",
    "    return D \n",
    "\n",
    "        \n",
    "def YZ_decompose(U): \n",
    "    '''\n",
    "    Single qubit gate U can be implemented using four gates. \n",
    "    U = R_1(phi) R_z(l+u) R_y(2t) R_z(l-u)\n",
    "    \n",
    "    R_1(a) = [[1,0],[0,e^ia]]\n",
    "    R_y = exp(iaY/2)\n",
    "    R_z = exp(iaZ/2)\n",
    "    '''\n",
    "    assert U.shape == (2,2)\n",
    "    phi = np.angle( np.linalg.det(U) ) \n",
    "    t = np.arccos(np.abs(U[0][0])) \n",
    "    l = np.angle(U[0][0])\n",
    "    u = np.angle(U[0][1])\n",
    "\n",
    "\n"
   ]
  },
  {
   "attachments": {},
   "cell_type": "markdown",
   "metadata": {},
   "source": [
    "## Test Universal Decomposition"
   ]
  },
  {
   "cell_type": "code",
   "execution_count": 2,
   "metadata": {},
   "outputs": [
    {
     "name": "stdout",
     "output_type": "stream",
     "text": [
      "[[-0.+0.j -0.+0.j  0.-0.j -0.-0.j  0.-0.j -0.+0.j  0.+0.j  0.+0.j]\n",
      " [-0.+0.j  0.-0.j  0.-0.j  0.+0.j -0.-0.j  0.+0.j  0.-0.j -0.+0.j]\n",
      " [ 0.-0.j  0.-0.j -0.+0.j -0.+0.j  0.-0.j -0.+0.j -0.-0.j  0.+0.j]\n",
      " [-0.+0.j  0.+0.j  0.-0.j  0.+0.j -0.-0.j  0.+0.j  0.+0.j -0.-0.j]\n",
      " [ 0.-0.j -0.-0.j  0.-0.j  0.+0.j  0.-0.j  0.-0.j  0.+0.j  0.+0.j]\n",
      " [-0.+0.j -0.+0.j  0.-0.j -0.-0.j  0.+0.j  0.+0.j -0.+0.j  0.-0.j]\n",
      " [-0.+0.j -0.-0.j  0.+0.j  0.-0.j  0.+0.j  0.-0.j  0.+0.j  0.+0.j]\n",
      " [ 0.-0.j -0.-0.j -0.+0.j  0.+0.j  0.-0.j  0.+0.j -0.-0.j  0.+0.j]]\n"
     ]
    }
   ],
   "source": [
    "from scipy.stats import unitary_group\n",
    "\n",
    "n = 3\n",
    "targetGate = unitary_group.rvs(2**n)\n",
    "np.set_printoptions(suppress=True, precision=3)\n",
    "\n",
    "# Test to recover a target gate to be decomposed\n",
    "D = two_level_decompose_gray(targetGate)\n",
    "S = np.identity(targetGate.shape[0])\n",
    "for m in D:\n",
    "    S = m @ S\n",
    "\n",
    "# this should be a zero matrix \n",
    "print(S-targetGate)"
   ]
  },
  {
   "attachments": {},
   "cell_type": "markdown",
   "metadata": {},
   "source": [
    "### Computer Experiment & Complexity Analysis"
   ]
  },
  {
   "cell_type": "code",
   "execution_count": 3,
   "metadata": {},
   "outputs": [
    {
     "name": "stdout",
     "output_type": "stream",
     "text": [
      "28\n"
     ]
    }
   ],
   "source": [
    "from time import perf_counter\n",
    "import csv\n",
    "\n",
    "print( len( two_level_decompose(targetGate) ) )\n",
    "iterations  = 1\n",
    "max_nqubits = 7\n",
    "\n",
    "with open('analysisUD.csv', 'w', newline='') as csvfile:\n",
    "    writer = csv.writer(csvfile, delimiter=',')\n",
    "    writer.writerow(['nqubits', 'avg l', 'avg runtime'])\n",
    "    for n in range(1, max_nqubits+1): \n",
    "        total_l = 0\n",
    "        total_t = 0 \n",
    "        for i in range(iterations):\n",
    "            targetGate = unitary_group.rvs(2**n)\n",
    "            stime = perf_counter() \n",
    "            D = two_level_decompose_gray(targetGate)\n",
    "            duration = perf_counter() - stime\n",
    "            l = len(D)\n",
    "            total_l += l \n",
    "            total_t += duration\n",
    "            # print(\"length\", l)\n",
    "            # print(\"duration\", duration)\n",
    "        writer.writerow( [n, total_l/iterations ,total_t/iterations])"
   ]
  },
  {
   "cell_type": "markdown",
   "metadata": {},
   "source": []
  }
 ],
 "metadata": {
  "kernelspec": {
   "display_name": "qiskit",
   "language": "python",
   "name": "python3"
  },
  "language_info": {
   "codemirror_mode": {
    "name": "ipython",
    "version": 3
   },
   "file_extension": ".py",
   "mimetype": "text/x-python",
   "name": "python",
   "nbconvert_exporter": "python",
   "pygments_lexer": "ipython3",
   "version": "3.10.4"
  },
  "orig_nbformat": 4
 },
 "nbformat": 4,
 "nbformat_minor": 2
}
