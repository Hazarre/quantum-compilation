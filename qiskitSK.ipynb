{
 "cells": [
  {
   "cell_type": "code",
   "execution_count": 119,
   "id": "694763f1",
   "metadata": {},
   "outputs": [
    {
     "data": {
      "text/plain": [
       "{'qiskit-terra': '0.23.2', 'qiskit-aer': '0.12.0', 'qiskit-ignis': None, 'qiskit-ibmq-provider': '0.20.2', 'qiskit': '0.42.0', 'qiskit-nature': None, 'qiskit-finance': None, 'qiskit-optimization': None, 'qiskit-machine-learning': None}"
      ]
     },
     "execution_count": 119,
     "metadata": {},
     "output_type": "execute_result"
    }
   ],
   "source": [
    "import qiskit\n",
    "qiskit.__qiskit_version__"
   ]
  },
  {
   "cell_type": "code",
   "execution_count": 120,
   "id": "532da471",
   "metadata": {},
   "outputs": [
    {
     "data": {
      "text/html": [
       "<pre style=\"word-wrap: normal;white-space: pre;background: #fff0;line-height: 1.1;font-family: &quot;Courier New&quot;,Courier,monospace\">   ┌─────────────┐\n",
       "q: ┤ U3(π/2,0,0) ├\n",
       "   └─────────────┘</pre>"
      ],
      "text/plain": [
       "   ┌─────────────┐\n",
       "q: ┤ U3(π/2,0,0) ├\n",
       "   └─────────────┘"
      ]
     },
     "execution_count": 120,
     "metadata": {},
     "output_type": "execute_result"
    }
   ],
   "source": [
    "from qiskit import QuantumCircuit\n",
    "# Create a circuit with a register of three qubits\n",
    "circ = QuantumCircuit(1)\n",
    "# H gate on qubit 0, putting this qubit in a superposition of |0> + |1>.\n",
    "circ.h(0)\n",
    "circ.x( 0)\n",
    "circ.draw('mpl')\n",
    "out_circ = qiskit.compiler.transpile(circ, unitary_synthesis_method=\"sk\") \n",
    "out_circ.draw()"
   ]
  },
  {
   "cell_type": "code",
   "execution_count": 1,
   "id": "113fd452",
   "metadata": {},
   "outputs": [
    {
     "name": "stdout",
     "output_type": "stream",
     "text": [
      "Original circuit:\n",
      "   ┌───┐\n",
      "q: ┤ X ├\n",
      "   └───┘\n",
      "Discretized circuit:\n",
      "global phase: π\n",
      "   ┌───┐┌───┐┌───┐┌───┐┌───┐┌───┐\n",
      "q: ┤ H ├┤ T ├┤ T ├┤ T ├┤ T ├┤ H ├\n",
      "   └───┘└───┘└───┘└───┘└───┘└───┘\n",
      "Error: 2.8284271247461894\n"
     ]
    }
   ],
   "source": [
    "import numpy as np\n",
    "from qiskit.circuit import QuantumCircuit\n",
    "from qiskit.transpiler.passes.synthesis import SolovayKitaev\n",
    "from qiskit.quantum_info import Operator\n",
    "\n",
    "# create a basic circcuit with a single X gate on one qubit \n",
    "circuit = QuantumCircuit(1)\n",
    "circuit.x(0)\n",
    "print(\"Original circuit:\")\n",
    "print(circuit.draw())\n",
    "\n",
    "# compile using the Solovay-Kitaev theorem built-in in Qiskit \n",
    "skd = SolovayKitaev(recursion_degree=2)\n",
    "discretized = skd(circuit)\n",
    "print(\"Discretized circuit:\")\n",
    "print(discretized.draw())\n",
    "print(\"Error:\", np.linalg.norm(Operator(circuit).data - Operator(discretized).data))\n",
    "\n",
    "# why is the error so large? It's because there is a phase difference. See the next example for reference. "
   ]
  },
  {
   "cell_type": "code",
   "execution_count": 2,
   "id": "a68f31bf",
   "metadata": {},
   "outputs": [
    {
     "name": "stdout",
     "output_type": "stream",
     "text": [
      "Discretized circuit:\n",
      "global phase: π\n",
      "   ┌───┐┌───┐┌───┐\n",
      "q: ┤ H ├┤ Z ├┤ H ├\n",
      "   └───┘└───┘└───┘\n",
      "Error: 4.675343792338431e-16\n"
     ]
    }
   ],
   "source": [
    "from qiskit.synthesis import generate_basic_approximations\n",
    "from qiskit.transpiler.passes import SolovayKitaev\n",
    "\n",
    "# same as the previous cell except that now our basis (hardware instructions) are the Z and H (Hadamard) gate\n",
    "basis = [\"z\", \"h\"]\n",
    "approx = generate_basic_approximations(basis, depth=3)\n",
    "skd = SolovayKitaev(recursion_degree=4, basic_approximations=approx)\n",
    "discretized = skd(circuit)\n",
    "for gate in discretized.data:\n",
    "    print('\\ngate name:', gate[0].name)\n",
    "    print('qubit(s) acted on:', gate[1])\n",
    "    print('other paramters (such as angles):', gate[0].params)\n",
    "\n",
    "# Now compile the circuit again with Solovay-Kitaev theorem\n",
    "print(\"Discretized circuit:\")\n",
    "print(discretized.draw())\n",
    "\n",
    "# If we remove the phase of the of the output from the discretized circuit, the error becomes very small\n",
    "print(\"Error:\", np.linalg.norm(Operator(circuit).data - Operator(discretized).data*np.exp(np.pi*1.j)))"
   ]
  },
  {
   "cell_type": "code",
   "execution_count": 8,
   "id": "42073cf3",
   "metadata": {},
   "outputs": [
    {
     "name": "stdout",
     "output_type": "stream",
     "text": [
      "\n",
      "gate name: h\n",
      "qubit(s) acted on: [Qubit(QuantumRegister(1, 'q'), 0)]\n",
      "other paramters (such as angles): []\n",
      "\n",
      "gate name: z\n",
      "qubit(s) acted on: [Qubit(QuantumRegister(1, 'q'), 0)]\n",
      "other paramters (such as angles): []\n",
      "\n",
      "gate name: h\n",
      "qubit(s) acted on: [Qubit(QuantumRegister(1, 'q'), 0)]\n",
      "other paramters (such as angles): []\n"
     ]
    }
   ],
   "source": [
    "for gate in discretized.data:\n",
    "    print('\\ngate name:', gate[0].name)\n",
    "    print('qubit(s) acted on:', gate[1])\n",
    "    print('other paramters (such as angles):', gate[0].params)"
   ]
  },
  {
   "cell_type": "code",
   "execution_count": 3,
   "id": "692d53e4",
   "metadata": {},
   "outputs": [],
   "source": [
    "from qiskit.circuit.library import RXGate, TGate, HGate, XGate, ZGate\n",
    "U = XGate().to_matrix()\n",
    "A = HGate().to_matrix() @ ZGate().to_matrix() @ HGate().to_matrix()"
   ]
  },
  {
   "cell_type": "code",
   "execution_count": 4,
   "id": "6e6e0ad4",
   "metadata": {},
   "outputs": [
    {
     "data": {
      "text/plain": [
       "3.1560822113208575e-16"
      ]
     },
     "execution_count": 4,
     "metadata": {},
     "output_type": "execute_result"
    }
   ],
   "source": [
    "np.linalg.norm(U-A)"
   ]
  },
  {
   "cell_type": "code",
   "execution_count": 5,
   "id": "b8677a24",
   "metadata": {},
   "outputs": [
    {
     "data": {
      "text/plain": [
       "Operator([[ 0.+0.0000000e+00j, -1.+1.2246468e-16j],\n",
       "          [-1.+1.2246468e-16j,  0.+0.0000000e+00j]],\n",
       "         input_dims=(2,), output_dims=(2,))"
      ]
     },
     "execution_count": 5,
     "metadata": {},
     "output_type": "execute_result"
    }
   ],
   "source": [
    "Operator(discretized)"
   ]
  },
  {
   "cell_type": "code",
   "execution_count": 10,
   "id": "4ac2aef5",
   "metadata": {},
   "outputs": [
    {
     "name": "stdout",
     "output_type": "stream",
     "text": [
      "[[-2.23711432e-17+0.j  1.00000000e+00+0.j]\n",
      " [ 1.00000000e+00+0.j -2.23711432e-17+0.j]]\n"
     ]
    },
    {
     "data": {
      "text/plain": [
       "<qiskit.circuit.instructionset.InstructionSet at 0x7f7edd0d6170>"
      ]
     },
     "execution_count": 10,
     "metadata": {},
     "output_type": "execute_result"
    }
   ],
   "source": [
    "from qiskit import QuantumCircuit\n",
    "from qiskit.extensions import UnitaryGate\n",
    "\n",
    "gate = UnitaryGate(A)\n",
    "print(A)\n",
    "circuit = QuantumCircuit(1)\n",
    "circuit.append(gate, [0] )\n"
   ]
  },
  {
   "cell_type": "code",
   "execution_count": null,
   "id": "de2ca3a8",
   "metadata": {},
   "outputs": [],
   "source": []
  }
 ],
 "metadata": {
  "kernelspec": {
   "display_name": "Python 3 (ipykernel)",
   "language": "python",
   "name": "python3"
  },
  "language_info": {
   "codemirror_mode": {
    "name": "ipython",
    "version": 3
   },
   "file_extension": ".py",
   "mimetype": "text/x-python",
   "name": "python",
   "nbconvert_exporter": "python",
   "pygments_lexer": "ipython3",
   "version": "3.10.4"
  }
 },
 "nbformat": 4,
 "nbformat_minor": 5
}
