{
 "cells": [
  {
   "attachments": {},
   "cell_type": "markdown",
   "id": "1655b7cd",
   "metadata": {},
   "source": [
    "# Solovay-Kitaev theorem "
   ]
  },
  {
   "attachments": {},
   "cell_type": "markdown",
   "id": "06ddd1f5",
   "metadata": {},
   "source": [
    "### Basic Approximation\n",
    "Implement Basic Approximation using a KDree as an efficient lookup table for n-dimensional data. This gives the initial basic approximation. "
   ]
  },
  {
   "cell_type": "code",
   "execution_count": 2,
   "id": "234ddc64",
   "metadata": {},
   "outputs": [],
   "source": [
    "import numpy as np\n",
    "from sklearn.neighbors import KDTree\n",
    "from itertools import product\n",
    "\n",
    "def operator_norm(A):\n",
    "    return np.linalg.norm(A, ord=2)\n",
    "\n",
    "def to1D(arr):\n",
    "    return np.hstack( (arr.real.flatten(), arr.imag.flatten()) )\n",
    "\n",
    "def gen_basic_lookup(basis, max_depth): \n",
    "    # create basic lookup routine by storing sequences of gate sets in a KDtree \n",
    "    seqs, approxs = list(basis.keys()), list(basis.values())\n",
    "    \n",
    "    # the multiplication of sequence is like a tree expansion\n",
    "    seqs_alldepth = seqs.copy()\n",
    "    approxs_alldepth = approxs.copy() \n",
    "    for i in range(max_depth-1):\n",
    "        seqs = [seq + syb for seq in seqs for syb in basis.keys()]\n",
    "        approxs = [np.matmul(a, g)  for a in approxs for g in basis.values()]    \n",
    "        seqs_alldepth += seqs \n",
    "        approxs_alldepth += approxs\n",
    "    return seqs_alldepth, approxs_alldepth\n",
    "\n"
   ]
  },
  {
   "attachments": {},
   "cell_type": "markdown",
   "id": "974b534b",
   "metadata": {},
   "source": [
    "### Test Basic Approximation"
   ]
  },
  {
   "cell_type": "code",
   "execution_count": 6,
   "id": "27759759",
   "metadata": {},
   "outputs": [
    {
     "name": "stdout",
     "output_type": "stream",
     "text": [
      "HT\n",
      "[[ 0.70710678+0.j   0.5       +0.5j]\n",
      " [ 0.70710678+0.j  -0.5       -0.5j]]\n"
     ]
    }
   ],
   "source": [
    "# H and T gate as basis (hardware gat set)\n",
    "basis = {\"H\": 1/np.sqrt(2.0) * np.array([[1, 1],[1, -1]]),\"T\" : np.array([[1, 0], [0, np.exp(1j*np.pi/4)]])}\n",
    "\n",
    "# Generate a basic lookup sequence\n",
    "seqs, approxs = gen_basic_lookup(basis, 10)\n",
    "formatted_approxs = np.array([to1D(arr) for arr in approxs])\n",
    "tree = KDTree(formatted_approxs)\n",
    "\n",
    "H = 1/np.sqrt(2.0) * np.array([[1, 1],[1, -1]])\n",
    "T = np.array([[1, 0], [0, np.exp(1j*np.pi/4)]])\n",
    "\n",
    "# Build target matrix U = HT, and see if the returned sequence and corresponding matrix is HT\n",
    "dist, index = tree.query( to1D(np.matmul(H,T)).reshape(1, -1) , k=1)\n",
    "\n",
    "print(   seqs[index[0][0]])\n",
    "print(approxs[index[0][0]])"
   ]
  },
  {
   "attachments": {},
   "cell_type": "markdown",
   "id": "d70032e9",
   "metadata": {},
   "source": [
    "### Group Commutator Decomposition"
   ]
  },
  {
   "cell_type": "code",
   "execution_count": 8,
   "id": "77cb386b",
   "metadata": {},
   "outputs": [],
   "source": [
    "\n",
    "# Helper functions for group commutator decomposition \n",
    "def rx(phi):\n",
    "    \"\"\"Single-qubit rotation for operator sigmax with angle phi.\"\"\"\n",
    "    return np.array([[np.cos(phi / 2), -1j * np.sin(phi / 2)],\n",
    "                     [-1j * np.sin(phi / 2), np.cos(phi / 2)]])\n",
    "\n",
    "def ry(phi):\n",
    "    \"\"\"Single-qubit rotation for operator sigmay with angle phi.\"\"\"\n",
    "    return np.array([[np.cos(phi / 2), -np.sin(phi / 2)],\n",
    "                     [np.sin(phi / 2), np.cos(phi / 2)]])\n",
    "\n",
    "def rz(phi):\n",
    "    \"\"\"Single-qubit rotation for operator sigmaz with angle phi.\"\"\"\n",
    "    return np.arrayj([[np.exp(-1j * phi / 2), 0],\n",
    "                     [0, np.exp(1j * phi / 2)]])\n",
    "\n",
    "# Get unitary axis and angle\n",
    "def bloch(U):\n",
    "#     if isinstance(U, qt.Qobj):\n",
    "#         U = U.full()\n",
    "    angle = np.real(2 * np.arccos(np.trace(U) / 2))\n",
    "    sin = np.sin(angle / 2)\n",
    "    eps = 1e-10\n",
    "    if sin < eps:\n",
    "        axis = [0, 0, 1]\n",
    "    else:\n",
    "        nz = np.imag(U[1, 1] - U[0, 0]) / (2 * sin)\n",
    "        nx = -np.imag(U[1, 0]) / sin\n",
    "        ny = np.real(U[1, 0]) / sin\n",
    "        axis = [nx, ny, nz]\n",
    "    return axis, angle\n",
    "\n",
    "def diagonalize(A):\n",
    "    d, V = np.linalg.eig(A)\n",
    "    return d, V\n",
    "\n",
    "def gcd(U):\n",
    "    #     print('---', U.isunitary)\n",
    "    theta = 2 * np.arccos(np.real(np.trace(U) / 2))\n",
    "    phi = 2 * np.arcsin(  np.sqrt(np.sqrt((0.5 - 0.5 * np.cos(theta / 2)))))\n",
    "    axis, angle = bloch(U)\n",
    "    V = rx(phi)    \n",
    "    if axis[2] < 0:\n",
    "        W = ry(2 * np.pi - phi)\n",
    "    else:\n",
    "        W = ry(phi)\n",
    "        \n",
    "    _, V1 = diagonalize(U)\n",
    "    _, V2 = diagonalize(np.matmul(np.matmul(V,W), np.matmul(V.conj().T , W.conj().T)) )\n",
    "    \n",
    "    S = np.matmul(V1 , V2.conj().T)\n",
    "    V_tilde = np.matmul(S, np.matmul(V, S.conj().T))\n",
    "    W_tilde = np.matmul(S, np.matmul(W, S.conj().T))\n",
    "    \n",
    "    return V_tilde, W_tilde"
   ]
  },
  {
   "cell_type": "code",
   "execution_count": 25,
   "id": "e4029064",
   "metadata": {},
   "outputs": [],
   "source": [
    "def check_isunitary(self):\n",
    "        \"\"\"\n",
    "        Checks whether qobj is a unitary matrix\n",
    "        \"\"\"\n",
    "        if self.isoper:\n",
    "            eye_data = fast_identity(self.shape[0])\n",
    "            return not (\n",
    "                np.any(\n",
    "                    np.abs((self.data*self.dag().data - eye_data).data)\n",
    "                    > settings.atol\n",
    "                )\n",
    "                or\n",
    "                np.any(\n",
    "                    np.abs((self.dag().data*self.data - eye_data).data)\n",
    "                    > settings.atol\n",
    "                )\n",
    "            )\n",
    "        else:\n",
    "            return False"
   ]
  },
  {
   "attachments": {},
   "cell_type": "markdown",
   "id": "d362a8e3",
   "metadata": {},
   "source": [
    "### Solovay-Kitaev \n",
    "Putting everything together, we have the Solovay-Kitaev algorithm"
   ]
  },
  {
   "cell_type": "code",
   "execution_count": 10,
   "id": "a0a7742c",
   "metadata": {},
   "outputs": [],
   "source": [
    "# inputs \n",
    "# l_0 is the initial approx seq length\n",
    "l_0 = 10\n",
    " \n",
    "# basis \n",
    "basis = {\n",
    "    \"H\": 1/np.sqrt(2.0) * np.array([[1, 1],[1, -1]]),\n",
    "    \"T\" : np.array([[1, 0], [0, np.exp(1j*np.pi/4)]])}\n",
    "\n",
    "seqs, approxs = gen_basic_lookup(basis, l_0)\n",
    "formatted_approxs = np.array([to1D(arr) for arr in approxs])\n",
    "tree = KDTree(formatted_approxs)\n",
    "\n",
    "def Solovay_Kitaev(U, n):\n",
    "    if n == 0:\n",
    "        _, index = tree.query(to1D(U).reshape(1, -1), k=1)        \n",
    "        return approxs[index[0][0]], seqs[index[0][0]]   \n",
    "    else: \n",
    "        U1, seqU1 = Solovay_Kitaev(U, n-1)\n",
    "        V, W = gcd(np.matmul(U, U1.conj().T)) \n",
    "        V1, seqV1 = Solovay_Kitaev(V, n-1)\n",
    "        W1, seqW1 = Solovay_Kitaev(W, n-1)\n",
    "        Vd1 = V1.conj().T\n",
    "        Wd1 = W1.conj().T\n",
    "        seqVd1 = '(' + seqV1 + ')'\n",
    "        seqWd1 = '(' + seqW1 + ')'\n",
    "        approx = np.matmul(np.matmul(np.matmul(V1, W1), np.matmul(Vd1, Wd1)), U1)\n",
    "        seq = seqV1 + seqW1 + seqVd1 + seqWd1 + seqU1\n",
    "    return approx, seq"
   ]
  },
  {
   "cell_type": "code",
   "execution_count": 11,
   "id": "54fe04ce",
   "metadata": {},
   "outputs": [],
   "source": [
    "from scipy.stats import unitary_group\n",
    "# random SU(2) as the target Unitary gate to be approximated\n",
    "targetGate = unitary_group.rvs(2) \n",
    "approx, seq = Solovay_Kitaev(targetGate , 1)\n",
    "d = targetGate - approx"
   ]
  },
  {
   "cell_type": "code",
   "execution_count": 12,
   "id": "5ba311bd",
   "metadata": {},
   "outputs": [
    {
     "name": "stdout",
     "output_type": "stream",
     "text": [
      "Compiled sequence:  HTHTTTTTTTHTTTTHTTTT(HTHTTTTTTT)(HTTTTHTTTT)HTTTTHTTTT\n",
      "Difference between approx and target Unitary gate [[-0.51254509+0.49251119j -0.27125718+0.32974248j]\n",
      " [ 0.35425893+0.79361184j -0.43930565-0.7641384j ]]\n"
     ]
    }
   ],
   "source": [
    "print(\"Compiled sequence: \", seq)\n",
    "print(\"Difference between approx and target Unitary gate\", d)\n"
   ]
  },
  {
   "attachments": {},
   "cell_type": "markdown",
   "id": "9ec83e3d",
   "metadata": {},
   "source": [
    "### Algorithm Reference: \n",
    "[\"The Solovay-Kitaev algorithm\"](https://arxiv.org/abs/quant-ph/0505030), Christopher M. Dawson, Michael A. Nielsen. \n",
    "\n",
    "### Implementation Reference: \n",
    "- [Simple example using QuTip in python by PQCLab](https://github.com/PQCLab/SolovayKitaev) \n",
    "- [Python by cryptogoth](https://github.com/cryptogoth/skc-python/blob/master/skc/kdtree.py): Well commented code but many lines \n",
    "- [in Python by ssmi1975](https://github.com/ssmi1975/solovay-kitaev-py): functional style, 1000 lines, a bit hard to parse, has nice plots.\n",
    "- [Official Implementation by Dawson in C++](https://github.com/cmdawson/sk)\n",
    "- [Viz and numerical analysis by sesajad](https://github.com/sesajad/solovay-kitaev-simulation)\n",
    "- [Qiskit Transpiler Plugin](https://qiskit.org/documentation/stubs/qiskit.transpiler.passes.SolovayKitaevSynthesis.html)"
   ]
  }
 ],
 "metadata": {
  "kernelspec": {
   "display_name": "Python 3 (ipykernel)",
   "language": "python",
   "name": "python3"
  },
  "language_info": {
   "codemirror_mode": {
    "name": "ipython",
    "version": 3
   },
   "file_extension": ".py",
   "mimetype": "text/x-python",
   "name": "python",
   "nbconvert_exporter": "python",
   "pygments_lexer": "ipython3",
   "version": "3.10.4"
  }
 },
 "nbformat": 4,
 "nbformat_minor": 5
}
